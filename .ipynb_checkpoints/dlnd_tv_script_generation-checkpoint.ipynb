{
 "cells": [
  {
   "cell_type": "markdown",
   "metadata": {
    "deletable": true,
    "editable": true
   },
   "source": [
    "# TV Script Generation\n",
    "In this project, you'll generate your own [Simpsons](https://en.wikipedia.org/wiki/The_Simpsons) TV scripts using RNNs.  You'll be using part of the [Simpsons dataset](https://www.kaggle.com/wcukierski/the-simpsons-by-the-data) of scripts from 27 seasons.  The Neural Network you'll build will generate a new TV script for a scene at [Moe's Tavern](https://simpsonswiki.com/wiki/Moe's_Tavern).\n",
    "## Get the Data\n",
    "The data is already provided for you.  You'll be using a subset of the original dataset.  It consists of only the scenes in Moe's Tavern.  This doesn't include other versions of the tavern, like \"Moe's Cavern\", \"Flaming Moe's\", \"Uncle Moe's Family Feed-Bag\", etc.."
   ]
  },
  {
   "cell_type": "code",
   "execution_count": 1,
   "metadata": {
    "collapsed": false,
    "deletable": true,
    "editable": true
   },
   "outputs": [],
   "source": [
    "\"\"\"\n",
    "DON'T MODIFY ANYTHING IN THIS CELL\n",
    "\"\"\"\n",
    "import helper\n",
    "\n",
    "data_dir = './data/simpsons/moes_tavern_lines.txt'\n",
    "text = helper.load_data(data_dir)\n",
    "# Ignore notice, since we don't use it for analysing the data\n",
    "text = text[81:]"
   ]
  },
  {
   "cell_type": "markdown",
   "metadata": {
    "deletable": true,
    "editable": true
   },
   "source": [
    "## Explore the Data\n",
    "Play around with `view_sentence_range` to view different parts of the data."
   ]
  },
  {
   "cell_type": "code",
   "execution_count": 2,
   "metadata": {
    "collapsed": false,
    "deletable": true,
    "editable": true
   },
   "outputs": [
    {
     "name": "stdout",
     "output_type": "stream",
     "text": [
      "Dataset Stats\n",
      "Roughly the number of unique words: 11492\n",
      "Number of scenes: 262\n",
      "Average number of sentences in each scene: 15.248091603053435\n",
      "Number of lines: 4257\n",
      "Average number of words in each line: 11.50434578341555\n",
      "\n",
      "The sentences 0 to 10:\n",
      "Moe_Szyslak: (INTO PHONE) Moe's Tavern. Where the elite meet to drink.\n",
      "Bart_Simpson: Eh, yeah, hello, is Mike there? Last name, Rotch.\n",
      "Moe_Szyslak: (INTO PHONE) Hold on, I'll check. (TO BARFLIES) Mike Rotch. Mike Rotch. Hey, has anybody seen Mike Rotch, lately?\n",
      "Moe_Szyslak: (INTO PHONE) Listen you little puke. One of these days I'm gonna catch you, and I'm gonna carve my name on your back with an ice pick.\n",
      "Moe_Szyslak: What's the matter Homer? You're not your normal effervescent self.\n",
      "Homer_Simpson: I got my problems, Moe. Give me another one.\n",
      "Moe_Szyslak: Homer, hey, you should not drink to forget your problems.\n",
      "Barney_Gumble: Yeah, you should only drink to enhance your social skills.\n",
      "\n",
      "\n"
     ]
    }
   ],
   "source": [
    "view_sentence_range = (0, 10)\n",
    "\n",
    "\"\"\"\n",
    "DON'T MODIFY ANYTHING IN THIS CELL\n",
    "\"\"\"\n",
    "import numpy as np\n",
    "\n",
    "print('Dataset Stats')\n",
    "print('Roughly the number of unique words: {}'.format(len({word: None for word in text.split()})))\n",
    "scenes = text.split('\\n\\n')\n",
    "print('Number of scenes: {}'.format(len(scenes)))\n",
    "sentence_count_scene = [scene.count('\\n') for scene in scenes]\n",
    "print('Average number of sentences in each scene: {}'.format(np.average(sentence_count_scene)))\n",
    "\n",
    "sentences = [sentence for scene in scenes for sentence in scene.split('\\n')]\n",
    "print('Number of lines: {}'.format(len(sentences)))\n",
    "word_count_sentence = [len(sentence.split()) for sentence in sentences]\n",
    "print('Average number of words in each line: {}'.format(np.average(word_count_sentence)))\n",
    "\n",
    "print()\n",
    "print('The sentences {} to {}:'.format(*view_sentence_range))\n",
    "print('\\n'.join(text.split('\\n')[view_sentence_range[0]:view_sentence_range[1]]))"
   ]
  },
  {
   "cell_type": "markdown",
   "metadata": {
    "deletable": true,
    "editable": true
   },
   "source": [
    "## Implement Preprocessing Functions\n",
    "The first thing to do to any dataset is preprocessing.  Implement the following preprocessing functions below:\n",
    "- Lookup Table\n",
    "- Tokenize Punctuation\n",
    "\n",
    "### Lookup Table\n",
    "To create a word embedding, you first need to transform the words to ids.  In this function, create two dictionaries:\n",
    "- Dictionary to go from the words to an id, we'll call `vocab_to_int`\n",
    "- Dictionary to go from the id to word, we'll call `int_to_vocab`\n",
    "\n",
    "Return these dictionaries in the following tuple `(vocab_to_int, int_to_vocab)`"
   ]
  },
  {
   "cell_type": "code",
   "execution_count": 4,
   "metadata": {
    "collapsed": false,
    "deletable": true,
    "editable": true
   },
   "outputs": [
    {
     "name": "stdout",
     "output_type": "stream",
     "text": [
      "Tests Passed\n"
     ]
    }
   ],
   "source": [
    "import numpy as np\n",
    "import problem_unittests as tests\n",
    "from collections import Counter\n",
    "\n",
    "def create_lookup_tables(text):\n",
    "    \"\"\"\n",
    "    Create lookup tables for vocabulary\n",
    "    :param text: The text of tv scripts split into words\n",
    "    :return: A tuple of dicts (vocab_to_int, int_to_vocab)\n",
    "    \"\"\"\n",
    "    word_count = Counter(text)\n",
    "    words_sorted = sorted(word_count, key=word_count.get, reverse=True)\n",
    "    int_to_vocab = {i:word for i, word in enumerate(words_sorted)}\n",
    "    vocab_to_int = {word:i for i, word in int_to_vocab.items()}\n",
    "    return vocab_to_int, int_to_vocab\n",
    "\n",
    "\n",
    "\"\"\"\n",
    "DON'T MODIFY ANYTHING IN THIS CELL THAT IS BELOW THIS LINE\n",
    "\"\"\"\n",
    "tests.test_create_lookup_tables(create_lookup_tables)"
   ]
  },
  {
   "cell_type": "markdown",
   "metadata": {
    "deletable": true,
    "editable": true
   },
   "source": [
    "### Tokenize Punctuation\n",
    "We'll be splitting the script into a word array using spaces as delimiters.  However, punctuations like periods and exclamation marks make it hard for the neural network to distinguish between the word \"bye\" and \"bye!\".\n",
    "\n",
    "Implement the function `token_lookup` to return a dict that will be used to tokenize symbols like \"!\" into \"||Exclamation_Mark||\".  Create a dictionary for the following symbols where the symbol is the key and value is the token:\n",
    "- Period ( . )\n",
    "- Comma ( , )\n",
    "- Quotation Mark ( \" )\n",
    "- Semicolon ( ; )\n",
    "- Exclamation mark ( ! )\n",
    "- Question mark ( ? )\n",
    "- Left Parentheses ( ( )\n",
    "- Right Parentheses ( ) )\n",
    "- Dash ( -- )\n",
    "- Return ( \\n )\n",
    "\n",
    "This dictionary will be used to token the symbols and add the delimiter (space) around it.  This separates the symbols as it's own word, making it easier for the neural network to predict on the next word. Make sure you don't use a token that could be confused as a word. Instead of using the token \"dash\", try using something like \"||dash||\"."
   ]
  },
  {
   "cell_type": "code",
   "execution_count": 5,
   "metadata": {
    "collapsed": false,
    "deletable": true,
    "editable": true
   },
   "outputs": [
    {
     "name": "stdout",
     "output_type": "stream",
     "text": [
      "Tests Passed\n"
     ]
    }
   ],
   "source": [
    "def token_lookup():\n",
    "    \"\"\"\n",
    "    Generate a dict to turn punctuation into a token.\n",
    "    :return: Tokenize dictionary where the key is the punctuation and the value is the token\n",
    "    \"\"\"\n",
    "    return {\n",
    "        '.': \"||Period||\",\n",
    "        ',': \"||Comma||\",\n",
    "        '\"': \"||Quotation_Mark||\",\n",
    "        ';': \"||Semicolon||\",\n",
    "        '!': \"||Exclamation_Mark||\",\n",
    "        '?': \"||Question_Mark||\",\n",
    "        '(': \"||Left_Paretheses||\",\n",
    "        ')': \"||Right+Parentheses||\",\n",
    "        '--': \"||Dash||\",\n",
    "        '\\n': \"||Return||\"\n",
    "        }\n",
    "\n",
    "\"\"\"\n",
    "DON'T MODIFY ANYTHING IN THIS CELL THAT IS BELOW THIS LINE\n",
    "\"\"\"\n",
    "tests.test_tokenize(token_lookup)"
   ]
  },
  {
   "cell_type": "markdown",
   "metadata": {
    "deletable": true,
    "editable": true
   },
   "source": [
    "## Preprocess all the data and save it\n",
    "Running the code cell below will preprocess all the data and save it to file."
   ]
  },
  {
   "cell_type": "code",
   "execution_count": 6,
   "metadata": {
    "collapsed": false,
    "deletable": true,
    "editable": true
   },
   "outputs": [],
   "source": [
    "\"\"\"\n",
    "DON'T MODIFY ANYTHING IN THIS CELL\n",
    "\"\"\"\n",
    "# Preprocess Training, Validation, and Testing Data\n",
    "helper.preprocess_and_save_data(data_dir, token_lookup, create_lookup_tables)"
   ]
  },
  {
   "cell_type": "markdown",
   "metadata": {
    "deletable": true,
    "editable": true
   },
   "source": [
    "# Check Point\n",
    "This is your first checkpoint. If you ever decide to come back to this notebook or have to restart the notebook, you can start from here. The preprocessed data has been saved to disk."
   ]
  },
  {
   "cell_type": "code",
   "execution_count": 7,
   "metadata": {
    "collapsed": false,
    "deletable": true,
    "editable": true
   },
   "outputs": [],
   "source": [
    "\"\"\"\n",
    "DON'T MODIFY ANYTHING IN THIS CELL\n",
    "\"\"\"\n",
    "import helper\n",
    "import numpy as np\n",
    "import problem_unittests as tests\n",
    "\n",
    "int_text, vocab_to_int, int_to_vocab, token_dict = helper.load_preprocess()"
   ]
  },
  {
   "cell_type": "markdown",
   "metadata": {
    "deletable": true,
    "editable": true
   },
   "source": [
    "## Build the Neural Network\n",
    "You'll build the components necessary to build a RNN by implementing the following functions below:\n",
    "- get_inputs\n",
    "- get_init_cell\n",
    "- get_embed\n",
    "- build_rnn\n",
    "- build_nn\n",
    "- get_batches\n",
    "\n",
    "### Check the Version of TensorFlow and Access to GPU"
   ]
  },
  {
   "cell_type": "code",
   "execution_count": 8,
   "metadata": {
    "collapsed": false,
    "deletable": true,
    "editable": true
   },
   "outputs": [
    {
     "name": "stdout",
     "output_type": "stream",
     "text": [
      "TensorFlow Version: 1.0.0\n",
      "Default GPU Device: /gpu:0\n"
     ]
    }
   ],
   "source": [
    "\"\"\"\n",
    "DON'T MODIFY ANYTHING IN THIS CELL\n",
    "\"\"\"\n",
    "from distutils.version import LooseVersion\n",
    "import warnings\n",
    "import tensorflow as tf\n",
    "\n",
    "# Check TensorFlow Version\n",
    "assert LooseVersion(tf.__version__) >= LooseVersion('1.0'), 'Please use TensorFlow version 1.0 or newer'\n",
    "print('TensorFlow Version: {}'.format(tf.__version__))\n",
    "\n",
    "# Check for a GPU\n",
    "if not tf.test.gpu_device_name():\n",
    "    warnings.warn('No GPU found. Please use a GPU to train your neural network.')\n",
    "else:\n",
    "    print('Default GPU Device: {}'.format(tf.test.gpu_device_name()))"
   ]
  },
  {
   "cell_type": "markdown",
   "metadata": {
    "deletable": true,
    "editable": true
   },
   "source": [
    "### Input\n",
    "Implement the `get_inputs()` function to create TF Placeholders for the Neural Network.  It should create the following placeholders:\n",
    "- Input text placeholder named \"input\" using the [TF Placeholder](https://www.tensorflow.org/api_docs/python/tf/placeholder) `name` parameter.\n",
    "- Targets placeholder\n",
    "- Learning Rate placeholder\n",
    "\n",
    "Return the placeholders in the following the tuple `(Input, Targets, LearingRate)`"
   ]
  },
  {
   "cell_type": "code",
   "execution_count": 11,
   "metadata": {
    "collapsed": false,
    "deletable": true,
    "editable": true
   },
   "outputs": [
    {
     "name": "stdout",
     "output_type": "stream",
     "text": [
      "Tests Passed\n"
     ]
    }
   ],
   "source": [
    "def get_inputs():\n",
    "    \"\"\"\n",
    "    Create TF Placeholders for input, targets, and learning rate.\n",
    "    :return: Tuple (input, targets, learning rate)\n",
    "    \"\"\"\n",
    "    # TODO: Implement Function\n",
    "    input  = tf.placeholder(tf.int32, shape=(None, None), name=\"input\")\n",
    "    targets = tf.placeholder(tf.int32, shape=(None, None), name=\"targets\")\n",
    "    learning_rate = tf.placeholder(tf.float32, name=\"learning_rate\")\n",
    "    return input, targets, learning_rate\n",
    "\n",
    "\n",
    "\"\"\"\n",
    "DON'T MODIFY ANYTHING IN THIS CELL THAT IS BELOW THIS LINE\n",
    "\"\"\"\n",
    "tests.test_get_inputs(get_inputs)"
   ]
  },
  {
   "cell_type": "markdown",
   "metadata": {
    "deletable": true,
    "editable": true
   },
   "source": [
    "### Build RNN Cell and Initialize\n",
    "Stack one or more [`BasicLSTMCells`](https://www.tensorflow.org/api_docs/python/tf/contrib/rnn/BasicLSTMCell) in a [`MultiRNNCell`](https://www.tensorflow.org/api_docs/python/tf/contrib/rnn/MultiRNNCell).\n",
    "- The Rnn size should be set using `rnn_size`\n",
    "- Initalize Cell State using the MultiRNNCell's [`zero_state()`](https://www.tensorflow.org/api_docs/python/tf/contrib/rnn/MultiRNNCell#zero_state) function\n",
    "    - Apply the name \"initial_state\" to the initial state using [`tf.identity()`](https://www.tensorflow.org/api_docs/python/tf/identity)\n",
    "\n",
    "Return the cell and initial state in the following tuple `(Cell, InitialState)`"
   ]
  },
  {
   "cell_type": "code",
   "execution_count": 95,
   "metadata": {
    "collapsed": false,
    "deletable": true,
    "editable": true
   },
   "outputs": [
    {
     "name": "stdout",
     "output_type": "stream",
     "text": [
      "Tests Passed\n"
     ]
    }
   ],
   "source": [
    "def get_init_cell(batch_size, rnn_size):\n",
    "    \"\"\"\n",
    "    Create an RNN Cell and initialize it.\n",
    "    :param batch_size: Size of batches\n",
    "    :param rnn_size: Size of RNNs\n",
    "    :return: Tuple (cell, initialize state)\n",
    "    \"\"\"\n",
    "    lstm = tf.contrib.rnn.BasicLSTMCell(rnn_size)\n",
    "    lstm_1 = tf.contrib.rnn.BasicLSTMCell(rnn_size)\n",
    "    lstm_2 = tf.contrib.rnn.BasicLSTMCell(rnn_size)\n",
    "    cell = tf.contrib.rnn.MultiRNNCell([lstm, lstm_1, lstm_2])\n",
    "    initialize = cell.zero_state(batch_size, tf.float32)\n",
    "    initial_state = tf.identity(initialize, name='initial_state')\n",
    "    return cell, initial_state\n",
    "\n",
    "\n",
    "\"\"\"\n",
    "DON'T MODIFY ANYTHING IN THIS CELL THAT IS BELOW THIS LINE\n",
    "\"\"\"\n",
    "tests.test_get_init_cell(get_init_cell)"
   ]
  },
  {
   "cell_type": "markdown",
   "metadata": {
    "deletable": true,
    "editable": true
   },
   "source": [
    "### Word Embedding\n",
    "Apply embedding to `input_data` using TensorFlow.  Return the embedded sequence."
   ]
  },
  {
   "cell_type": "code",
   "execution_count": 96,
   "metadata": {
    "collapsed": false,
    "deletable": true,
    "editable": true
   },
   "outputs": [
    {
     "name": "stdout",
     "output_type": "stream",
     "text": [
      "Tests Passed\n"
     ]
    }
   ],
   "source": [
    "def get_embed(input_data, vocab_size, embed_dim):\n",
    "    \"\"\"\n",
    "    Create embedding for <input_data>.\n",
    "    :param input_data: TF placeholder for text input.\n",
    "    :param vocab_size: Number of words in vocabulary.\n",
    "    :param embed_dim: Number of embedding dimensions\n",
    "    :return: Embedded input.\n",
    "    \"\"\"\n",
    "    embedding = tf.Variable(tf.random_uniform((vocab_size, embed_dim), -1, 1))\n",
    "    embed = tf.nn.embedding_lookup(embedding, input_data)\n",
    "    return embed\n",
    "\n",
    "\n",
    "\"\"\"\n",
    "DON'T MODIFY ANYTHING IN THIS CELL THAT IS BELOW THIS LINE\n",
    "\"\"\"\n",
    "tests.test_get_embed(get_embed)"
   ]
  },
  {
   "cell_type": "markdown",
   "metadata": {
    "deletable": true,
    "editable": true
   },
   "source": [
    "### Build RNN\n",
    "You created a RNN Cell in the `get_init_cell()` function.  Time to use the cell to create a RNN.\n",
    "- Build the RNN using the [`tf.nn.dynamic_rnn()`](https://www.tensorflow.org/api_docs/python/tf/nn/dynamic_rnn)\n",
    " - Apply the name \"final_state\" to the final state using [`tf.identity()`](https://www.tensorflow.org/api_docs/python/tf/identity)\n",
    "\n",
    "Return the outputs and final_state state in the following tuple `(Outputs, FinalState)` "
   ]
  },
  {
   "cell_type": "code",
   "execution_count": 97,
   "metadata": {
    "collapsed": false,
    "deletable": true,
    "editable": true
   },
   "outputs": [
    {
     "name": "stdout",
     "output_type": "stream",
     "text": [
      "Tests Passed\n"
     ]
    }
   ],
   "source": [
    "def build_rnn(cell, inputs):\n",
    "    \"\"\"\n",
    "    Create a RNN using a RNN Cell\n",
    "    :param cell: RNN Cell\n",
    "    :param inputs: Input text data\n",
    "    :return: Tuple (Outputs, Final State)\n",
    "    \"\"\"\n",
    "    outputs, finalstate = tf.nn.dynamic_rnn(cell, inputs, dtype=tf.float32)\n",
    "    final_state = tf.identity(finalstate, name='final_state')\n",
    "    return outputs, final_state\n",
    "\n",
    "\n",
    "\"\"\"\n",
    "DON'T MODIFY ANYTHING IN THIS CELL THAT IS BELOW THIS LINE\n",
    "\"\"\"\n",
    "tests.test_build_rnn(build_rnn)"
   ]
  },
  {
   "cell_type": "markdown",
   "metadata": {
    "deletable": true,
    "editable": true
   },
   "source": [
    "### Build the Neural Network\n",
    "Apply the functions you implemented above to:\n",
    "- Apply embedding to `input_data` using your `get_embed(input_data, vocab_size, embed_dim)` function.\n",
    "- Build RNN using `cell` and your `build_rnn(cell, inputs)` function.\n",
    "- Apply a fully connected layer with a linear activation and `vocab_size` as the number of outputs.\n",
    "\n",
    "Return the logits and final state in the following tuple (Logits, FinalState) "
   ]
  },
  {
   "cell_type": "code",
   "execution_count": 98,
   "metadata": {
    "collapsed": false,
    "deletable": true,
    "editable": true
   },
   "outputs": [
    {
     "name": "stdout",
     "output_type": "stream",
     "text": [
      "Tests Passed\n"
     ]
    }
   ],
   "source": [
    "def build_nn(cell, rnn_size, input_data, vocab_size):\n",
    "    \"\"\"\n",
    "    Build part of the neural network\n",
    "    :param cell: RNN cell\n",
    "    :param rnn_size: Size of rnns\n",
    "    :param input_data: Input data\n",
    "    :param vocab_size: Vocabulary size\n",
    "    :return: Tuple (Logits, FinalState)\n",
    "    \"\"\"\n",
    "    embed = get_embed(input_data, vocab_size, rnn_size)\n",
    "    outputs, final_state = build_rnn(cell, embed)\n",
    "    logits = tf.contrib.layers.fully_connected(outputs, vocab_size, activation_fn=None)\n",
    "    return logits, final_state\n",
    "\n",
    "\n",
    "\"\"\"\n",
    "DON'T MODIFY ANYTHING IN THIS CELL THAT IS BELOW THIS LINE\n",
    "\"\"\"\n",
    "tests.test_build_nn(build_nn)"
   ]
  },
  {
   "cell_type": "markdown",
   "metadata": {
    "deletable": true,
    "editable": true
   },
   "source": [
    "### Batches\n",
    "Implement `get_batches` to create batches of input and targets using `int_text`.  The batches should be a Numpy array with the shape `(number of batches, 2, batch size, sequence length)`. Each batch contains two elements:\n",
    "- The first element is a single batch of **input** with the shape `[batch size, sequence length]`\n",
    "- The second element is a single batch of **targets** with the shape `[batch size, sequence length]`\n",
    "\n",
    "If you can't fill the last batch with enough data, drop the last batch.\n",
    "\n",
    "For exmple, `get_batches([1, 2, 3, 4, 5, 6, 7, 8, 9, 10, 11, 12, 13, 14, 15], 2, 3)` would return a Numpy array of the following:\n",
    "```\n",
    "[\n",
    "  # First Batch\n",
    "  [\n",
    "    # Batch of Input\n",
    "    [[ 1  2  3], [ 7  8  9]],\n",
    "    # Batch of targets\n",
    "    [[ 2  3  4], [ 8  9 10]]\n",
    "  ],\n",
    " \n",
    "  # Second Batch\n",
    "  [\n",
    "    # Batch of Input\n",
    "    [[ 4  5  6], [10 11 12]],\n",
    "    # Batch of targets\n",
    "    [[ 5  6  7], [11 12 13]]\n",
    "  ]\n",
    "]\n",
    "```"
   ]
  },
  {
   "cell_type": "code",
   "execution_count": 99,
   "metadata": {
    "collapsed": false,
    "deletable": true,
    "editable": true
   },
   "outputs": [
    {
     "name": "stdout",
     "output_type": "stream",
     "text": [
      "Tests Passed\n"
     ]
    }
   ],
   "source": [
    "def get_batches(int_text, batch_size, seq_length):\n",
    "    \"\"\"\n",
    "    Return batches of input and target\n",
    "    :param int_text: Text with the words replaced by their ids\n",
    "    :param batch_size: The size of batch\n",
    "    :param seq_length: The length of sequence\n",
    "    :return: Batches as a Numpy array\n",
    "    \"\"\"\n",
    "    n_batches = len(int_text) // (batch_size * seq_length)\n",
    "    xdata = np.array(int_text[: n_batches * batch_size * seq_length])\n",
    "    ydata = np.array(int_text[1: n_batches * batch_size * seq_length + 1])\n",
    "\n",
    "    x_batches = np.split(xdata.reshape(batch_size, -1), n_batches, 1)\n",
    "    y_batches = np.split(ydata.reshape(batch_size, -1), n_batches, 1)\n",
    "\n",
    "    return np.array(list(zip(x_batches, y_batches)))\n",
    "\n",
    "\n",
    "\"\"\"\n",
    "DON'T MODIFY ANYTHING IN THIS CELL THAT IS BELOW THIS LINE\n",
    "\"\"\"\n",
    "tests.test_get_batches(get_batches)"
   ]
  },
  {
   "cell_type": "markdown",
   "metadata": {
    "deletable": true,
    "editable": true
   },
   "source": [
    "## Neural Network Training\n",
    "### Hyperparameters\n",
    "Tune the following parameters:\n",
    "\n",
    "- Set `num_epochs` to the number of epochs.\n",
    "- Set `batch_size` to the batch size.\n",
    "- Set `rnn_size` to the size of the RNNs.\n",
    "- Set `seq_length` to the length of sequence.\n",
    "- Set `learning_rate` to the learning rate.\n",
    "- Set `show_every_n_batches` to the number of batches the neural network should print progress."
   ]
  },
  {
   "cell_type": "code",
   "execution_count": 103,
   "metadata": {
    "collapsed": true,
    "deletable": true,
    "editable": true
   },
   "outputs": [],
   "source": [
    "# Number of Epochs\n",
    "num_epochs = 50\n",
    "# Batch Size\n",
    "batch_size = 128\n",
    "# RNN Size\n",
    "rnn_size = 512\n",
    "# Sequence Length\n",
    "seq_length = 8\n",
    "# Learning Rate\n",
    "learning_rate = 0.001\n",
    "# Show stats for every n number of batches\n",
    "show_every_n_batches = 10\n",
    "\n",
    "\"\"\"\n",
    "DON'T MODIFY ANYTHING IN THIS CELL THAT IS BELOW THIS LINE\n",
    "\"\"\"\n",
    "save_dir = './save'"
   ]
  },
  {
   "cell_type": "markdown",
   "metadata": {
    "deletable": true,
    "editable": true
   },
   "source": [
    "### Build the Graph\n",
    "Build the graph using the neural network you implemented."
   ]
  },
  {
   "cell_type": "code",
   "execution_count": 104,
   "metadata": {
    "collapsed": false,
    "deletable": true,
    "editable": true
   },
   "outputs": [],
   "source": [
    "\"\"\"\n",
    "DON'T MODIFY ANYTHING IN THIS CELL\n",
    "\"\"\"\n",
    "from tensorflow.contrib import seq2seq\n",
    "\n",
    "train_graph = tf.Graph()\n",
    "with train_graph.as_default():\n",
    "    vocab_size = len(int_to_vocab)\n",
    "    input_text, targets, lr = get_inputs()\n",
    "    input_data_shape = tf.shape(input_text)\n",
    "    cell, initial_state = get_init_cell(input_data_shape[0], rnn_size)\n",
    "    logits, final_state = build_nn(cell, rnn_size, input_text, vocab_size)\n",
    "\n",
    "    # Probabilities for generating words\n",
    "    probs = tf.nn.softmax(logits, name='probs')\n",
    "\n",
    "    # Loss function\n",
    "    cost = seq2seq.sequence_loss(\n",
    "        logits,\n",
    "        targets,\n",
    "        tf.ones([input_data_shape[0], input_data_shape[1]]))\n",
    "\n",
    "    # Optimizer\n",
    "    optimizer = tf.train.AdamOptimizer(lr)\n",
    "\n",
    "    # Gradient Clipping\n",
    "    gradients = optimizer.compute_gradients(cost)\n",
    "    capped_gradients = [(tf.clip_by_value(grad, -1., 1.), var) for grad, var in gradients]\n",
    "    train_op = optimizer.apply_gradients(capped_gradients)"
   ]
  },
  {
   "cell_type": "markdown",
   "metadata": {
    "deletable": true,
    "editable": true
   },
   "source": [
    "## Train\n",
    "Train the neural network on the preprocessed data.  If you have a hard time getting a good loss, check the [forms](https://discussions.udacity.com/) to see if anyone is having the same problem."
   ]
  },
  {
   "cell_type": "code",
   "execution_count": 106,
   "metadata": {
    "collapsed": false,
    "deletable": true,
    "editable": true
   },
   "outputs": [
    {
     "name": "stdout",
     "output_type": "stream",
     "text": [
      "Epoch   0 Batch    0/67   train_loss = 8.821\n",
      "Epoch   0 Batch   10/67   train_loss = 6.768\n",
      "Epoch   0 Batch   20/67   train_loss = 6.673\n",
      "Epoch   0 Batch   30/67   train_loss = 6.683\n",
      "Epoch   0 Batch   40/67   train_loss = 6.537\n",
      "Epoch   0 Batch   50/67   train_loss = 6.478\n",
      "Epoch   0 Batch   60/67   train_loss = 6.495\n",
      "Epoch   1 Batch    3/67   train_loss = 6.333\n",
      "Epoch   1 Batch   13/67   train_loss = 6.166\n",
      "Epoch   1 Batch   23/67   train_loss = 6.080\n",
      "Epoch   1 Batch   33/67   train_loss = 6.042\n",
      "Epoch   1 Batch   43/67   train_loss = 6.150\n",
      "Epoch   1 Batch   53/67   train_loss = 6.238\n",
      "Epoch   1 Batch   63/67   train_loss = 5.956\n",
      "Epoch   2 Batch    6/67   train_loss = 6.135\n",
      "Epoch   2 Batch   16/67   train_loss = 6.102\n",
      "Epoch   2 Batch   26/67   train_loss = 6.146\n",
      "Epoch   2 Batch   36/67   train_loss = 6.163\n",
      "Epoch   2 Batch   46/67   train_loss = 6.073\n",
      "Epoch   2 Batch   56/67   train_loss = 6.167\n",
      "Epoch   2 Batch   66/67   train_loss = 5.965\n",
      "Epoch   3 Batch    9/67   train_loss = 6.247\n",
      "Epoch   3 Batch   19/67   train_loss = 6.094\n",
      "Epoch   3 Batch   29/67   train_loss = 6.064\n",
      "Epoch   3 Batch   39/67   train_loss = 6.117\n",
      "Epoch   3 Batch   49/67   train_loss = 6.092\n",
      "Epoch   3 Batch   59/67   train_loss = 6.025\n",
      "Epoch   4 Batch    2/67   train_loss = 5.809\n",
      "Epoch   4 Batch   12/67   train_loss = 5.861\n",
      "Epoch   4 Batch   22/67   train_loss = 6.019\n",
      "Epoch   4 Batch   32/67   train_loss = 5.952\n",
      "Epoch   4 Batch   42/67   train_loss = 5.929\n",
      "Epoch   4 Batch   52/67   train_loss = 5.687\n",
      "Epoch   4 Batch   62/67   train_loss = 5.824\n",
      "Epoch   5 Batch    5/67   train_loss = 5.738\n",
      "Epoch   5 Batch   15/67   train_loss = 5.593\n",
      "Epoch   5 Batch   25/67   train_loss = 5.715\n",
      "Epoch   5 Batch   35/67   train_loss = 5.786\n",
      "Epoch   5 Batch   45/67   train_loss = 5.629\n",
      "Epoch   5 Batch   55/67   train_loss = 5.661\n",
      "Epoch   5 Batch   65/67   train_loss = 5.554\n",
      "Epoch   6 Batch    8/67   train_loss = 5.410\n",
      "Epoch   6 Batch   18/67   train_loss = 5.357\n",
      "Epoch   6 Batch   28/67   train_loss = 5.451\n",
      "Epoch   6 Batch   38/67   train_loss = 5.382\n",
      "Epoch   6 Batch   48/67   train_loss = 5.200\n",
      "Epoch   6 Batch   58/67   train_loss = 5.101\n",
      "Epoch   7 Batch    1/67   train_loss = 5.240\n",
      "Epoch   7 Batch   11/67   train_loss = 5.202\n",
      "Epoch   7 Batch   21/67   train_loss = 5.139\n",
      "Epoch   7 Batch   31/67   train_loss = 4.939\n",
      "Epoch   7 Batch   41/67   train_loss = 5.090\n",
      "Epoch   7 Batch   51/67   train_loss = 4.940\n",
      "Epoch   7 Batch   61/67   train_loss = 4.877\n",
      "Epoch   8 Batch    4/67   train_loss = 4.740\n",
      "Epoch   8 Batch   14/67   train_loss = 5.063\n",
      "Epoch   8 Batch   24/67   train_loss = 4.903\n",
      "Epoch   8 Batch   34/67   train_loss = 4.775\n",
      "Epoch   8 Batch   44/67   train_loss = 4.815\n",
      "Epoch   8 Batch   54/67   train_loss = 4.757\n",
      "Epoch   8 Batch   64/67   train_loss = 4.769\n",
      "Epoch   9 Batch    7/67   train_loss = 4.839\n",
      "Epoch   9 Batch   17/67   train_loss = 4.798\n",
      "Epoch   9 Batch   27/67   train_loss = 4.667\n",
      "Epoch   9 Batch   37/67   train_loss = 4.683\n",
      "Epoch   9 Batch   47/67   train_loss = 4.602\n",
      "Epoch   9 Batch   57/67   train_loss = 4.708\n",
      "Epoch  10 Batch    0/67   train_loss = 4.613\n",
      "Epoch  10 Batch   10/67   train_loss = 4.684\n",
      "Epoch  10 Batch   20/67   train_loss = 4.612\n",
      "Epoch  10 Batch   30/67   train_loss = 4.590\n",
      "Epoch  10 Batch   40/67   train_loss = 4.642\n",
      "Epoch  10 Batch   50/67   train_loss = 4.579\n",
      "Epoch  10 Batch   60/67   train_loss = 4.449\n",
      "Epoch  11 Batch    3/67   train_loss = 4.499\n",
      "Epoch  11 Batch   13/67   train_loss = 4.482\n",
      "Epoch  11 Batch   23/67   train_loss = 4.364\n",
      "Epoch  11 Batch   33/67   train_loss = 4.316\n",
      "Epoch  11 Batch   43/67   train_loss = 4.463\n",
      "Epoch  11 Batch   53/67   train_loss = 4.468\n",
      "Epoch  11 Batch   63/67   train_loss = 4.074\n",
      "Epoch  12 Batch    6/67   train_loss = 4.341\n",
      "Epoch  12 Batch   16/67   train_loss = 4.227\n",
      "Epoch  12 Batch   26/67   train_loss = 4.270\n",
      "Epoch  12 Batch   36/67   train_loss = 4.317\n",
      "Epoch  12 Batch   46/67   train_loss = 4.236\n",
      "Epoch  12 Batch   56/67   train_loss = 4.226\n",
      "Epoch  12 Batch   66/67   train_loss = 4.001\n",
      "Epoch  13 Batch    9/67   train_loss = 4.247\n",
      "Epoch  13 Batch   19/67   train_loss = 4.170\n",
      "Epoch  13 Batch   29/67   train_loss = 4.194\n",
      "Epoch  13 Batch   39/67   train_loss = 4.110\n",
      "Epoch  13 Batch   49/67   train_loss = 4.181\n",
      "Epoch  13 Batch   59/67   train_loss = 4.060\n",
      "Epoch  14 Batch    2/67   train_loss = 3.893\n",
      "Epoch  14 Batch   12/67   train_loss = 4.048\n",
      "Epoch  14 Batch   22/67   train_loss = 4.103\n",
      "Epoch  14 Batch   32/67   train_loss = 4.082\n",
      "Epoch  14 Batch   42/67   train_loss = 3.988\n",
      "Epoch  14 Batch   52/67   train_loss = 3.939\n",
      "Epoch  14 Batch   62/67   train_loss = 3.916\n",
      "Epoch  15 Batch    5/67   train_loss = 3.872\n",
      "Epoch  15 Batch   15/67   train_loss = 3.839\n",
      "Epoch  15 Batch   25/67   train_loss = 3.941\n",
      "Epoch  15 Batch   35/67   train_loss = 4.042\n",
      "Epoch  15 Batch   45/67   train_loss = 3.951\n",
      "Epoch  15 Batch   55/67   train_loss = 4.055\n",
      "Epoch  15 Batch   65/67   train_loss = 3.896\n",
      "Epoch  16 Batch    8/67   train_loss = 3.866\n",
      "Epoch  16 Batch   18/67   train_loss = 3.857\n",
      "Epoch  16 Batch   28/67   train_loss = 3.964\n",
      "Epoch  16 Batch   38/67   train_loss = 3.847\n",
      "Epoch  16 Batch   48/67   train_loss = 3.812\n",
      "Epoch  16 Batch   58/67   train_loss = 3.818\n",
      "Epoch  17 Batch    1/67   train_loss = 3.970\n",
      "Epoch  17 Batch   11/67   train_loss = 3.843\n",
      "Epoch  17 Batch   21/67   train_loss = 3.863\n",
      "Epoch  17 Batch   31/67   train_loss = 3.665\n",
      "Epoch  17 Batch   41/67   train_loss = 3.729\n",
      "Epoch  17 Batch   51/67   train_loss = 3.706\n",
      "Epoch  17 Batch   61/67   train_loss = 3.559\n",
      "Epoch  18 Batch    4/67   train_loss = 3.543\n",
      "Epoch  18 Batch   14/67   train_loss = 3.772\n",
      "Epoch  18 Batch   24/67   train_loss = 3.693\n",
      "Epoch  18 Batch   34/67   train_loss = 3.512\n",
      "Epoch  18 Batch   44/67   train_loss = 3.463\n",
      "Epoch  18 Batch   54/67   train_loss = 3.480\n",
      "Epoch  18 Batch   64/67   train_loss = 3.515\n",
      "Epoch  19 Batch    7/67   train_loss = 3.577\n",
      "Epoch  19 Batch   17/67   train_loss = 3.498\n",
      "Epoch  19 Batch   27/67   train_loss = 3.481\n",
      "Epoch  19 Batch   37/67   train_loss = 3.502\n",
      "Epoch  19 Batch   47/67   train_loss = 3.311\n",
      "Epoch  19 Batch   57/67   train_loss = 3.406\n",
      "Epoch  20 Batch    0/67   train_loss = 3.374\n",
      "Epoch  20 Batch   10/67   train_loss = 3.395\n",
      "Epoch  20 Batch   20/67   train_loss = 3.330\n",
      "Epoch  20 Batch   30/67   train_loss = 3.362\n",
      "Epoch  20 Batch   40/67   train_loss = 3.450\n",
      "Epoch  20 Batch   50/67   train_loss = 3.346\n",
      "Epoch  20 Batch   60/67   train_loss = 3.262\n",
      "Epoch  21 Batch    3/67   train_loss = 3.233\n",
      "Epoch  21 Batch   13/67   train_loss = 3.218\n",
      "Epoch  21 Batch   23/67   train_loss = 3.131\n",
      "Epoch  21 Batch   33/67   train_loss = 3.124\n",
      "Epoch  21 Batch   43/67   train_loss = 3.325\n",
      "Epoch  21 Batch   53/67   train_loss = 3.240\n",
      "Epoch  21 Batch   63/67   train_loss = 3.049\n",
      "Epoch  22 Batch    6/67   train_loss = 3.209\n",
      "Epoch  22 Batch   16/67   train_loss = 3.012\n",
      "Epoch  22 Batch   26/67   train_loss = 3.078\n",
      "Epoch  22 Batch   36/67   train_loss = 3.081\n",
      "Epoch  22 Batch   46/67   train_loss = 3.093\n",
      "Epoch  22 Batch   56/67   train_loss = 3.003\n",
      "Epoch  22 Batch   66/67   train_loss = 2.910\n",
      "Epoch  23 Batch    9/67   train_loss = 3.014\n",
      "Epoch  23 Batch   19/67   train_loss = 3.033\n",
      "Epoch  23 Batch   29/67   train_loss = 3.013\n",
      "Epoch  23 Batch   39/67   train_loss = 2.938\n",
      "Epoch  23 Batch   49/67   train_loss = 2.978\n",
      "Epoch  23 Batch   59/67   train_loss = 2.907\n",
      "Epoch  24 Batch    2/67   train_loss = 2.814\n",
      "Epoch  24 Batch   12/67   train_loss = 2.862\n",
      "Epoch  24 Batch   22/67   train_loss = 2.952\n",
      "Epoch  24 Batch   32/67   train_loss = 2.923\n",
      "Epoch  24 Batch   42/67   train_loss = 2.868\n",
      "Epoch  24 Batch   52/67   train_loss = 2.778\n",
      "Epoch  24 Batch   62/67   train_loss = 2.790\n",
      "Epoch  25 Batch    5/67   train_loss = 2.704\n",
      "Epoch  25 Batch   15/67   train_loss = 2.706\n",
      "Epoch  25 Batch   25/67   train_loss = 2.725\n",
      "Epoch  25 Batch   35/67   train_loss = 2.857\n",
      "Epoch  25 Batch   45/67   train_loss = 2.815\n",
      "Epoch  25 Batch   55/67   train_loss = 2.855\n",
      "Epoch  25 Batch   65/67   train_loss = 2.726\n",
      "Epoch  26 Batch    8/67   train_loss = 2.678\n",
      "Epoch  26 Batch   18/67   train_loss = 2.633\n",
      "Epoch  26 Batch   28/67   train_loss = 2.682\n",
      "Epoch  26 Batch   38/67   train_loss = 2.569\n",
      "Epoch  26 Batch   48/67   train_loss = 2.560\n",
      "Epoch  26 Batch   58/67   train_loss = 2.566\n",
      "Epoch  27 Batch    1/67   train_loss = 2.706\n",
      "Epoch  27 Batch   11/67   train_loss = 2.601\n",
      "Epoch  27 Batch   21/67   train_loss = 2.525\n",
      "Epoch  27 Batch   31/67   train_loss = 2.476\n",
      "Epoch  27 Batch   41/67   train_loss = 2.475\n",
      "Epoch  27 Batch   51/67   train_loss = 2.492\n",
      "Epoch  27 Batch   61/67   train_loss = 2.375\n",
      "Epoch  28 Batch    4/67   train_loss = 2.392\n",
      "Epoch  28 Batch   14/67   train_loss = 2.524\n",
      "Epoch  28 Batch   24/67   train_loss = 2.555\n",
      "Epoch  28 Batch   34/67   train_loss = 2.416\n",
      "Epoch  28 Batch   44/67   train_loss = 2.414\n",
      "Epoch  28 Batch   54/67   train_loss = 2.350\n",
      "Epoch  28 Batch   64/67   train_loss = 2.362\n",
      "Epoch  29 Batch    7/67   train_loss = 2.364\n",
      "Epoch  29 Batch   17/67   train_loss = 2.312\n",
      "Epoch  29 Batch   27/67   train_loss = 2.443\n",
      "Epoch  29 Batch   37/67   train_loss = 2.508\n",
      "Epoch  29 Batch   47/67   train_loss = 2.265\n",
      "Epoch  29 Batch   57/67   train_loss = 2.350\n",
      "Epoch  30 Batch    0/67   train_loss = 2.274\n",
      "Epoch  30 Batch   10/67   train_loss = 2.251\n",
      "Epoch  30 Batch   20/67   train_loss = 2.287\n",
      "Epoch  30 Batch   30/67   train_loss = 2.295\n",
      "Epoch  30 Batch   40/67   train_loss = 2.491\n",
      "Epoch  30 Batch   50/67   train_loss = 2.314\n",
      "Epoch  30 Batch   60/67   train_loss = 2.133\n",
      "Epoch  31 Batch    3/67   train_loss = 2.118\n",
      "Epoch  31 Batch   13/67   train_loss = 2.096\n",
      "Epoch  31 Batch   23/67   train_loss = 2.091\n",
      "Epoch  31 Batch   33/67   train_loss = 2.119\n",
      "Epoch  31 Batch   43/67   train_loss = 2.200\n",
      "Epoch  31 Batch   53/67   train_loss = 2.135\n",
      "Epoch  31 Batch   63/67   train_loss = 2.050\n",
      "Epoch  32 Batch    6/67   train_loss = 2.065\n",
      "Epoch  32 Batch   16/67   train_loss = 1.969\n",
      "Epoch  32 Batch   26/67   train_loss = 2.049\n",
      "Epoch  32 Batch   36/67   train_loss = 1.984\n",
      "Epoch  32 Batch   46/67   train_loss = 2.024\n",
      "Epoch  32 Batch   56/67   train_loss = 1.961\n",
      "Epoch  32 Batch   66/67   train_loss = 1.930\n",
      "Epoch  33 Batch    9/67   train_loss = 1.927\n",
      "Epoch  33 Batch   19/67   train_loss = 1.915\n",
      "Epoch  33 Batch   29/67   train_loss = 1.871\n",
      "Epoch  33 Batch   39/67   train_loss = 1.778\n",
      "Epoch  33 Batch   49/67   train_loss = 1.884\n",
      "Epoch  33 Batch   59/67   train_loss = 1.839\n",
      "Epoch  34 Batch    2/67   train_loss = 1.836\n",
      "Epoch  34 Batch   12/67   train_loss = 1.864\n",
      "Epoch  34 Batch   22/67   train_loss = 1.866\n",
      "Epoch  34 Batch   32/67   train_loss = 1.803\n",
      "Epoch  34 Batch   42/67   train_loss = 1.744\n",
      "Epoch  34 Batch   52/67   train_loss = 1.784\n",
      "Epoch  34 Batch   62/67   train_loss = 1.828\n",
      "Epoch  35 Batch    5/67   train_loss = 1.733\n",
      "Epoch  35 Batch   15/67   train_loss = 1.739\n",
      "Epoch  35 Batch   25/67   train_loss = 1.736\n",
      "Epoch  35 Batch   35/67   train_loss = 1.745\n",
      "Epoch  35 Batch   45/67   train_loss = 1.799\n",
      "Epoch  35 Batch   55/67   train_loss = 1.770\n",
      "Epoch  35 Batch   65/67   train_loss = 1.624\n",
      "Epoch  36 Batch    8/67   train_loss = 1.671\n",
      "Epoch  36 Batch   18/67   train_loss = 1.680\n",
      "Epoch  36 Batch   28/67   train_loss = 1.776\n",
      "Epoch  36 Batch   38/67   train_loss = 1.649\n",
      "Epoch  36 Batch   48/67   train_loss = 1.669\n",
      "Epoch  36 Batch   58/67   train_loss = 1.580\n",
      "Epoch  37 Batch    1/67   train_loss = 1.641\n",
      "Epoch  37 Batch   11/67   train_loss = 1.651\n",
      "Epoch  37 Batch   21/67   train_loss = 1.603\n",
      "Epoch  37 Batch   31/67   train_loss = 1.673\n",
      "Epoch  37 Batch   41/67   train_loss = 1.587\n",
      "Epoch  37 Batch   51/67   train_loss = 1.619\n",
      "Epoch  37 Batch   61/67   train_loss = 1.441\n",
      "Epoch  38 Batch    4/67   train_loss = 1.498\n",
      "Epoch  38 Batch   14/67   train_loss = 1.535\n",
      "Epoch  38 Batch   24/67   train_loss = 1.613\n",
      "Epoch  38 Batch   34/67   train_loss = 1.541\n",
      "Epoch  38 Batch   44/67   train_loss = 1.510\n",
      "Epoch  38 Batch   54/67   train_loss = 1.408\n",
      "Epoch  38 Batch   64/67   train_loss = 1.398\n",
      "Epoch  39 Batch    7/67   train_loss = 1.423\n",
      "Epoch  39 Batch   17/67   train_loss = 1.403\n",
      "Epoch  39 Batch   27/67   train_loss = 1.446\n",
      "Epoch  39 Batch   37/67   train_loss = 1.478\n",
      "Epoch  39 Batch   47/67   train_loss = 1.334\n",
      "Epoch  39 Batch   57/67   train_loss = 1.343\n",
      "Epoch  40 Batch    0/67   train_loss = 1.327\n",
      "Epoch  40 Batch   10/67   train_loss = 1.243\n",
      "Epoch  40 Batch   20/67   train_loss = 1.314\n",
      "Epoch  40 Batch   30/67   train_loss = 1.273\n",
      "Epoch  40 Batch   40/67   train_loss = 1.379\n",
      "Epoch  40 Batch   50/67   train_loss = 1.326\n",
      "Epoch  40 Batch   60/67   train_loss = 1.208\n",
      "Epoch  41 Batch    3/67   train_loss = 1.254\n",
      "Epoch  41 Batch   13/67   train_loss = 1.151\n",
      "Epoch  41 Batch   23/67   train_loss = 1.239\n",
      "Epoch  41 Batch   33/67   train_loss = 1.204\n",
      "Epoch  41 Batch   43/67   train_loss = 1.249\n",
      "Epoch  41 Batch   53/67   train_loss = 1.243\n",
      "Epoch  41 Batch   63/67   train_loss = 1.217\n",
      "Epoch  42 Batch    6/67   train_loss = 1.175\n",
      "Epoch  42 Batch   16/67   train_loss = 1.136\n",
      "Epoch  42 Batch   26/67   train_loss = 1.252\n",
      "Epoch  42 Batch   36/67   train_loss = 1.154\n",
      "Epoch  42 Batch   46/67   train_loss = 1.157\n",
      "Epoch  42 Batch   56/67   train_loss = 1.078\n",
      "Epoch  42 Batch   66/67   train_loss = 1.094\n",
      "Epoch  43 Batch    9/67   train_loss = 1.074\n",
      "Epoch  43 Batch   19/67   train_loss = 1.103\n",
      "Epoch  43 Batch   29/67   train_loss = 1.080\n",
      "Epoch  43 Batch   39/67   train_loss = 1.019\n",
      "Epoch  43 Batch   49/67   train_loss = 1.054\n",
      "Epoch  43 Batch   59/67   train_loss = 1.064\n",
      "Epoch  44 Batch    2/67   train_loss = 1.065\n",
      "Epoch  44 Batch   12/67   train_loss = 1.030\n",
      "Epoch  44 Batch   22/67   train_loss = 1.035\n",
      "Epoch  44 Batch   32/67   train_loss = 1.031\n",
      "Epoch  44 Batch   42/67   train_loss = 0.966\n",
      "Epoch  44 Batch   52/67   train_loss = 1.045\n",
      "Epoch  44 Batch   62/67   train_loss = 1.085\n",
      "Epoch  45 Batch    5/67   train_loss = 1.009\n",
      "Epoch  45 Batch   15/67   train_loss = 0.972\n",
      "Epoch  45 Batch   25/67   train_loss = 0.919\n",
      "Epoch  45 Batch   35/67   train_loss = 0.996\n",
      "Epoch  45 Batch   45/67   train_loss = 1.041\n",
      "Epoch  45 Batch   55/67   train_loss = 1.013\n",
      "Epoch  45 Batch   65/67   train_loss = 0.910\n",
      "Epoch  46 Batch    8/67   train_loss = 0.947\n",
      "Epoch  46 Batch   18/67   train_loss = 0.932\n",
      "Epoch  46 Batch   28/67   train_loss = 0.905\n",
      "Epoch  46 Batch   38/67   train_loss = 0.879\n",
      "Epoch  46 Batch   48/67   train_loss = 0.887\n",
      "Epoch  46 Batch   58/67   train_loss = 0.892\n",
      "Epoch  47 Batch    1/67   train_loss = 0.956\n",
      "Epoch  47 Batch   11/67   train_loss = 0.956\n",
      "Epoch  47 Batch   21/67   train_loss = 0.876\n",
      "Epoch  47 Batch   31/67   train_loss = 0.880\n",
      "Epoch  47 Batch   41/67   train_loss = 0.855\n",
      "Epoch  47 Batch   51/67   train_loss = 0.942\n",
      "Epoch  47 Batch   61/67   train_loss = 0.844\n",
      "Epoch  48 Batch    4/67   train_loss = 0.869\n",
      "Epoch  48 Batch   14/67   train_loss = 0.845\n",
      "Epoch  48 Batch   24/67   train_loss = 0.915\n",
      "Epoch  48 Batch   34/67   train_loss = 0.865\n",
      "Epoch  48 Batch   44/67   train_loss = 0.866\n",
      "Epoch  48 Batch   54/67   train_loss = 0.820\n",
      "Epoch  48 Batch   64/67   train_loss = 0.863\n",
      "Epoch  49 Batch    7/67   train_loss = 0.833\n",
      "Epoch  49 Batch   17/67   train_loss = 0.803\n",
      "Epoch  49 Batch   27/67   train_loss = 0.802\n",
      "Epoch  49 Batch   37/67   train_loss = 0.851\n",
      "Epoch  49 Batch   47/67   train_loss = 0.789\n",
      "Epoch  49 Batch   57/67   train_loss = 0.822\n",
      "Model Trained and Saved\n"
     ]
    }
   ],
   "source": [
    "\"\"\"\n",
    "DON'T MODIFY ANYTHING IN THIS CELL\n",
    "\"\"\"\n",
    "batches = get_batches(int_text, batch_size, seq_length)\n",
    "\n",
    "with tf.Session(graph=train_graph) as sess:\n",
    "    sess.run(tf.global_variables_initializer())\n",
    "\n",
    "    for epoch_i in range(num_epochs):\n",
    "        state = sess.run(initial_state, {input_text: batches[0][0]})\n",
    "\n",
    "        for batch_i, (x, y) in enumerate(batches):\n",
    "            feed = {\n",
    "                input_text: x,\n",
    "                targets: y,\n",
    "                initial_state: state,\n",
    "                lr: learning_rate}\n",
    "            train_loss, state, _ = sess.run([cost, final_state, train_op], feed)\n",
    "\n",
    "            # Show every <show_every_n_batches> batches\n",
    "            if (epoch_i * len(batches) + batch_i) % show_every_n_batches == 0:\n",
    "                print('Epoch {:>3} Batch {:>4}/{}   train_loss = {:.3f}'.format(\n",
    "                    epoch_i,\n",
    "                    batch_i,\n",
    "                    len(batches),\n",
    "                    train_loss))\n",
    "\n",
    "    # Save Model\n",
    "    saver = tf.train.Saver()\n",
    "    saver.save(sess, save_dir)\n",
    "    print('Model Trained and Saved')"
   ]
  },
  {
   "cell_type": "markdown",
   "metadata": {
    "deletable": true,
    "editable": true
   },
   "source": [
    "## Save Parameters\n",
    "Save `seq_length` and `save_dir` for generating a new TV script."
   ]
  },
  {
   "cell_type": "code",
   "execution_count": 113,
   "metadata": {
    "collapsed": false,
    "deletable": true,
    "editable": true
   },
   "outputs": [],
   "source": [
    "\"\"\"\n",
    "DON'T MODIFY ANYTHING IN THIS CELL\n",
    "\"\"\"\n",
    "# Save parameters for checkpoint\n",
    "helper.save_params((seq_length, save_dir))"
   ]
  },
  {
   "cell_type": "markdown",
   "metadata": {
    "deletable": true,
    "editable": true
   },
   "source": [
    "# Checkpoint"
   ]
  },
  {
   "cell_type": "code",
   "execution_count": 114,
   "metadata": {
    "collapsed": false,
    "deletable": true,
    "editable": true
   },
   "outputs": [],
   "source": [
    "\"\"\"\n",
    "DON'T MODIFY ANYTHING IN THIS CELL\n",
    "\"\"\"\n",
    "import tensorflow as tf\n",
    "import numpy as np\n",
    "import helper\n",
    "import problem_unittests as tests\n",
    "\n",
    "_, vocab_to_int, int_to_vocab, token_dict = helper.load_preprocess()\n",
    "seq_length, load_dir = helper.load_params()"
   ]
  },
  {
   "cell_type": "markdown",
   "metadata": {
    "deletable": true,
    "editable": true
   },
   "source": [
    "## Implement Generate Functions\n",
    "### Get Tensors\n",
    "Get tensors from `loaded_graph` using the function [`get_tensor_by_name()`](https://www.tensorflow.org/api_docs/python/tf/Graph#get_tensor_by_name).  Get the tensors using the following names:\n",
    "- \"input:0\"\n",
    "- \"initial_state:0\"\n",
    "- \"final_state:0\"\n",
    "- \"probs:0\"\n",
    "\n",
    "Return the tensors in the following tuple `(InputTensor, InitialStateTensor, FinalStateTensor, ProbsTensor)` "
   ]
  },
  {
   "cell_type": "code",
   "execution_count": 115,
   "metadata": {
    "collapsed": false,
    "deletable": true,
    "editable": true
   },
   "outputs": [
    {
     "name": "stdout",
     "output_type": "stream",
     "text": [
      "Tests Passed\n"
     ]
    }
   ],
   "source": [
    "def get_tensors(loaded_graph):\n",
    "    \"\"\"\n",
    "    Get input, initial state, final state, and probabilities tensor from <loaded_graph>\n",
    "    :param loaded_graph: TensorFlow graph loaded from file\n",
    "    :return: Tuple (InputTensor, InitialStateTensor, FinalStateTensor, ProbsTensor)\n",
    "    \"\"\"\n",
    "    input_tensor = loaded_graph.get_tensor_by_name('input:0')\n",
    "    init_state_tensor = loaded_graph.get_tensor_by_name('initial_state:0')\n",
    "    fin_state_tensor = loaded_graph.get_tensor_by_name('final_state:0')\n",
    "    probs_tensor = loaded_graph.get_tensor_by_name('probs:0')\n",
    "    return input_tensor, init_state_tensor, fin_state_tensor, probs_tensor\n",
    "\n",
    "\n",
    "\"\"\"\n",
    "DON'T MODIFY ANYTHING IN THIS CELL THAT IS BELOW THIS LINE\n",
    "\"\"\"\n",
    "tests.test_get_tensors(get_tensors)"
   ]
  },
  {
   "cell_type": "markdown",
   "metadata": {
    "deletable": true,
    "editable": true
   },
   "source": [
    "### Choose Word\n",
    "Implement the `pick_word()` function to select the next word using `probabilities`."
   ]
  },
  {
   "cell_type": "code",
   "execution_count": 116,
   "metadata": {
    "collapsed": false,
    "deletable": true,
    "editable": true
   },
   "outputs": [
    {
     "name": "stdout",
     "output_type": "stream",
     "text": [
      "Tests Passed\n"
     ]
    }
   ],
   "source": [
    "def pick_word(probabilities, int_to_vocab):\n",
    "    \"\"\"\n",
    "    Pick the next word in the generated text\n",
    "    :param probabilities: Probabilites of the next word\n",
    "    :param int_to_vocab: Dictionary of word ids as the keys and words as the values\n",
    "    :return: String of the predicted word\n",
    "    \"\"\"\n",
    "    wordlist = list(int_to_vocab.values())\n",
    "    return np.random.choice(wordlist, p=probabilities)\n",
    "\n",
    "\n",
    "\"\"\"\n",
    "DON'T MODIFY ANYTHING IN THIS CELL THAT IS BELOW THIS LINE\n",
    "\"\"\"\n",
    "tests.test_pick_word(pick_word)"
   ]
  },
  {
   "cell_type": "markdown",
   "metadata": {
    "deletable": true,
    "editable": true
   },
   "source": [
    "## Generate TV Script\n",
    "This will generate the TV script for you.  Set `gen_length` to the length of TV script you want to generate."
   ]
  },
  {
   "cell_type": "code",
   "execution_count": 117,
   "metadata": {
    "collapsed": false,
    "deletable": true,
    "editable": true
   },
   "outputs": [
    {
     "name": "stdout",
     "output_type": "stream",
     "text": [
      "moe_szyslak: what's the last eye-- now, huh?\n",
      "carl_carlson: did you look, well if you want to give me some social dreams-- 'cause you've got up before i gotta pay that right!\n",
      "moe_szyslak: if you're dump? oh, sir, i'm gonna stay as her o'problem.\n",
      "grampa_simpson: aw he's guys, homer. they're time how where ya too we you all all this about when i've tick down.\n",
      "young_homer: try we milhouses before if where should he tired out again. good too right.\n",
      "moe_szyslak: yep. thanks were there, booze by a other drink.\n",
      "moe_szyslak: the public can't authorized away for our weekly hotenhoffer, ever-- and eat bar for college fat hated survive. you've really make a jolly who reynolds bags is playing about that-- i don't know everybody in my bees, a lottery.\n",
      "moe_szyslak: we'll come with your think now we need for fun. it's worse. two gets an walk in his world. / he was the reliable daddy on his news of thirteen correct!(laughs.\" then and burn in the morning soon springfield more glamour.\n",
      "lenny_leonard: i'm up!. sorry tonight.\n",
      "grampa_simpson: look, sir. there's so late about my kind of carl's bolting stamps? that's all as lenny as how anything they all-- he's always stink at end as peeping dress off old restless.\n",
      "moe_szyslak: hey yeah, wait, come off!\n",
      "homer_simpson:(things) no right? that's hope before right! he's not too years. oh, isn't, please it's her with edna, four.\" i don't know how in my heart.(calling guy!\n",
      "moe_szyslak: you know, moe, medical-- what's the city's boys they called the car-- he makes goes at gettin' high years\".\n",
      "homer_simpson: hold on my face.\n",
      "moe_szyslak: moe, thanks. okay. there's be good down for town.\n",
      "moe_szyslak: booze at happy with the dog hunter? don't say, fat once is great. we're already down in them city quality--\n",
      "lenny_leonard: plus sorry.\n",
      "homer_simpson: here's in my statue of silent things--\n",
      "barney_gumble: look with the super bowl? well, if how boys duffman, how chief was that billboard alcohol dinner in our morning.\n",
      "moe_szyslak: don't get his hole down mozzarella those mall, who could food opportunity in the last time he doesn't ever so right for fifty high later and all ya in mine.\n",
      "\n",
      "\n",
      "homer_simpson: hey moe. every happy hates in here-- i'm gonna have to drown something about all about her stupid moe-heads till i'm he would even happen.\n",
      "seymour_skinner: i got something you'll ever\n"
     ]
    }
   ],
   "source": [
    "gen_length = 500\n",
    "# homer_simpson, moe_szyslak, or Barney_Gumble\n",
    "prime_word = 'moe_szyslak'\n",
    "\n",
    "\"\"\"\n",
    "DON'T MODIFY ANYTHING IN THIS CELL THAT IS BELOW THIS LINE\n",
    "\"\"\"\n",
    "loaded_graph = tf.Graph()\n",
    "with tf.Session(graph=loaded_graph) as sess:\n",
    "    # Load saved model\n",
    "    loader = tf.train.import_meta_graph(load_dir + '.meta')\n",
    "    loader.restore(sess, load_dir)\n",
    "\n",
    "    # Get Tensors from loaded model\n",
    "    input_text, initial_state, final_state, probs = get_tensors(loaded_graph)\n",
    "\n",
    "    # Sentences generation setup\n",
    "    gen_sentences = [prime_word + ':']\n",
    "    prev_state = sess.run(initial_state, {input_text: np.array([[1]])})\n",
    "\n",
    "    # Generate sentences\n",
    "    for n in range(gen_length):\n",
    "        # Dynamic Input\n",
    "        dyn_input = [[vocab_to_int[word] for word in gen_sentences[-seq_length:]]]\n",
    "        dyn_seq_length = len(dyn_input[0])\n",
    "\n",
    "        # Get Prediction\n",
    "        probabilities, prev_state = sess.run(\n",
    "            [probs, final_state],\n",
    "            {input_text: dyn_input, initial_state: prev_state})\n",
    "        \n",
    "        pred_word = pick_word(probabilities[dyn_seq_length-1], int_to_vocab)\n",
    "\n",
    "        gen_sentences.append(pred_word)\n",
    "    \n",
    "    # Remove tokens\n",
    "    tv_script = ' '.join(gen_sentences)\n",
    "    for key, token in token_dict.items():\n",
    "        ending = ' ' if key in ['\\n', '(', '\"'] else ''\n",
    "        tv_script = tv_script.replace(' ' + token.lower(), key)\n",
    "    tv_script = tv_script.replace('\\n ', '\\n')\n",
    "    tv_script = tv_script.replace('( ', '(')\n",
    "        \n",
    "    print(tv_script)"
   ]
  },
  {
   "cell_type": "markdown",
   "metadata": {
    "deletable": true,
    "editable": true
   },
   "source": [
    "# The TV Script is Nonsensical\n",
    "It's ok if the TV script doesn't make any sense.  We trained on less than a megabyte of text.  In order to get good results, you'll have to use a smaller vocabulary or get more data.  Luckly there's more data!  As we mentioned in the begging of this project, this is a subset of [another dataset](https://www.kaggle.com/wcukierski/the-simpsons-by-the-data).  We didn't have you train on all the data, because that would take too long.  However, you are free to train your neural network on all the data.  After you complete the project, of course.\n",
    "# Submitting This Project\n",
    "When submitting this project, make sure to run all the cells before saving the notebook. Save the notebook file as \"dlnd_tv_script_generation.ipynb\" and save it as a HTML file under \"File\" -> \"Download as\". Include the \"helper.py\" and \"problem_unittests.py\" files in your submission."
   ]
  }
 ],
 "metadata": {
  "kernelspec": {
   "display_name": "Python 3",
   "language": "python",
   "name": "python3"
  },
  "language_info": {
   "codemirror_mode": {
    "name": "ipython",
    "version": 3
   },
   "file_extension": ".py",
   "mimetype": "text/x-python",
   "name": "python",
   "nbconvert_exporter": "python",
   "pygments_lexer": "ipython3",
   "version": "3.5.2"
  },
  "widgets": {
   "state": {},
   "version": "1.1.2"
  }
 },
 "nbformat": 4,
 "nbformat_minor": 0
}
